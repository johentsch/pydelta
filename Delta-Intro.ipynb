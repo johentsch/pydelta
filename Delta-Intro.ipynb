{
 "cells": [
  {
   "cell_type": "markdown",
   "metadata": {
    "slideshow": {
     "slide_type": "slide"
    }
   },
   "source": [
    "## pyΔ.next"
   ]
  },
  {
   "cell_type": "code",
   "execution_count": 1,
   "metadata": {
    "slideshow": {
     "slide_type": "slide"
    }
   },
   "outputs": [
    {
     "name": "stdout",
     "output_type": "stream",
     "text": [
      "['/home/tv/git/pydelta', '/usr/lib/python39.zip', '/usr/lib/python3.9', '/usr/lib/python3.9/lib-dynload', '', '/home/tv/.virtualenvs/pydelta/lib/python3.9/site-packages', '/home/tv/git/pydelta', '/home/tv/.virtualenvs/pydelta/lib/python3.9/site-packages/IPython/extensions', '/home/tv/.ipython']\n"
     ]
    }
   ],
   "source": [
    "import sys; print(sys.path)\n",
    "%matplotlib inline\n",
    "import pandas as pd\n",
    "import numpy as np\n",
    "try:\n",
    "    import seaborn     # sieht halt besser aus\n",
    "except ImportError:\n",
    "    pass               # dann halt nicht\n",
    "import delta"
   ]
  },
  {
   "cell_type": "markdown",
   "metadata": {
    "slideshow": {
     "slide_type": "slide"
    }
   },
   "source": [
    "## 1. Corpus vorbereiten"
   ]
  },
  {
   "cell_type": "code",
   "execution_count": 2,
   "metadata": {
    "slideshow": {
     "slide_type": "-"
    }
   },
   "outputs": [],
   "source": [
    "whole_corpus = delta.Corpus(\"test/corpus3/\")\n",
    "corpus = whole_corpus.top_n(2500)"
   ]
  },
  {
   "cell_type": "markdown",
   "metadata": {
    "slideshow": {
     "slide_type": "slide"
    }
   },
   "source": [
    "### 2. Corpus → Distanzmatrix"
   ]
  },
  {
   "cell_type": "code",
   "execution_count": 3,
   "metadata": {
    "slideshow": {
     "slide_type": "-"
    }
   },
   "outputs": [
    {
     "data": {
      "text/html": [
       "<div>\n",
       "<style scoped>\n",
       "    .dataframe tbody tr th:only-of-type {\n",
       "        vertical-align: middle;\n",
       "    }\n",
       "\n",
       "    .dataframe tbody tr th {\n",
       "        vertical-align: top;\n",
       "    }\n",
       "\n",
       "    .dataframe thead th {\n",
       "        text-align: right;\n",
       "    }\n",
       "</style>\n",
       "<table border=\"1\" class=\"dataframe\">\n",
       "  <thead>\n",
       "    <tr style=\"text-align: right;\">\n",
       "      <th></th>\n",
       "      <th>Raabe,-Wilhelm_Im-alten-Eisen</th>\n",
       "      <th>Fontane,-Theodor_Der-Stechlin</th>\n",
       "      <th>Raabe,-Wilhelm_Stopfkuchen</th>\n",
       "      <th>Marlitt,-Eugenie_Das-Geheimnis-der-alten-Mamsell</th>\n",
       "      <th>Raabe,-Wilhelm_Die-Chronik-der-Sperlingsgasse</th>\n",
       "      <th>Marlitt,-Eugenie_Die-Frau-mit-den-Karfunkelsteinen</th>\n",
       "      <th>Fontane,-Theodor_Frau-Jenny-Treibel</th>\n",
       "      <th>Fontane,-Theodor_Effi-Briest</th>\n",
       "      <th>Marlitt,-Eugenie_Das-Heideprinzesschen</th>\n",
       "    </tr>\n",
       "  </thead>\n",
       "  <tbody>\n",
       "    <tr>\n",
       "      <th>Raabe,-Wilhelm_Im-alten-Eisen</th>\n",
       "      <td>0.000000</td>\n",
       "      <td>1.343237</td>\n",
       "      <td>0.624532</td>\n",
       "      <td>1.200938</td>\n",
       "      <td>0.732207</td>\n",
       "      <td>1.215720</td>\n",
       "      <td>0.886441</td>\n",
       "      <td>1.258676</td>\n",
       "      <td>1.395609</td>\n",
       "    </tr>\n",
       "    <tr>\n",
       "      <th>Fontane,-Theodor_Der-Stechlin</th>\n",
       "      <td>1.343237</td>\n",
       "      <td>0.000000</td>\n",
       "      <td>1.246155</td>\n",
       "      <td>1.331243</td>\n",
       "      <td>1.402441</td>\n",
       "      <td>1.257329</td>\n",
       "      <td>1.017926</td>\n",
       "      <td>0.640157</td>\n",
       "      <td>1.119296</td>\n",
       "    </tr>\n",
       "    <tr>\n",
       "      <th>Raabe,-Wilhelm_Stopfkuchen</th>\n",
       "      <td>0.624532</td>\n",
       "      <td>1.246155</td>\n",
       "      <td>0.000000</td>\n",
       "      <td>1.268060</td>\n",
       "      <td>0.793546</td>\n",
       "      <td>1.247171</td>\n",
       "      <td>0.909698</td>\n",
       "      <td>1.209208</td>\n",
       "      <td>1.387786</td>\n",
       "    </tr>\n",
       "    <tr>\n",
       "      <th>Marlitt,-Eugenie_Das-Geheimnis-der-alten-Mamsell</th>\n",
       "      <td>1.200938</td>\n",
       "      <td>1.331243</td>\n",
       "      <td>1.268060</td>\n",
       "      <td>0.000000</td>\n",
       "      <td>1.133478</td>\n",
       "      <td>0.801244</td>\n",
       "      <td>1.267795</td>\n",
       "      <td>1.304392</td>\n",
       "      <td>0.725335</td>\n",
       "    </tr>\n",
       "    <tr>\n",
       "      <th>Raabe,-Wilhelm_Die-Chronik-der-Sperlingsgasse</th>\n",
       "      <td>0.732207</td>\n",
       "      <td>1.402441</td>\n",
       "      <td>0.793546</td>\n",
       "      <td>1.133478</td>\n",
       "      <td>0.000000</td>\n",
       "      <td>1.203421</td>\n",
       "      <td>0.837908</td>\n",
       "      <td>1.280661</td>\n",
       "      <td>1.329303</td>\n",
       "    </tr>\n",
       "    <tr>\n",
       "      <th>Marlitt,-Eugenie_Die-Frau-mit-den-Karfunkelsteinen</th>\n",
       "      <td>1.215720</td>\n",
       "      <td>1.257329</td>\n",
       "      <td>1.247171</td>\n",
       "      <td>0.801244</td>\n",
       "      <td>1.203421</td>\n",
       "      <td>0.000000</td>\n",
       "      <td>1.354223</td>\n",
       "      <td>1.260774</td>\n",
       "      <td>0.722380</td>\n",
       "    </tr>\n",
       "    <tr>\n",
       "      <th>Fontane,-Theodor_Frau-Jenny-Treibel</th>\n",
       "      <td>0.886441</td>\n",
       "      <td>1.017926</td>\n",
       "      <td>0.909698</td>\n",
       "      <td>1.267795</td>\n",
       "      <td>0.837908</td>\n",
       "      <td>1.354223</td>\n",
       "      <td>0.000000</td>\n",
       "      <td>0.897811</td>\n",
       "      <td>1.506644</td>\n",
       "    </tr>\n",
       "    <tr>\n",
       "      <th>Fontane,-Theodor_Effi-Briest</th>\n",
       "      <td>1.258676</td>\n",
       "      <td>0.640157</td>\n",
       "      <td>1.209208</td>\n",
       "      <td>1.304392</td>\n",
       "      <td>1.280661</td>\n",
       "      <td>1.260774</td>\n",
       "      <td>0.897811</td>\n",
       "      <td>0.000000</td>\n",
       "      <td>1.215294</td>\n",
       "    </tr>\n",
       "    <tr>\n",
       "      <th>Marlitt,-Eugenie_Das-Heideprinzesschen</th>\n",
       "      <td>1.395609</td>\n",
       "      <td>1.119296</td>\n",
       "      <td>1.387786</td>\n",
       "      <td>0.725335</td>\n",
       "      <td>1.329303</td>\n",
       "      <td>0.722380</td>\n",
       "      <td>1.506644</td>\n",
       "      <td>1.215294</td>\n",
       "      <td>0.000000</td>\n",
       "    </tr>\n",
       "  </tbody>\n",
       "</table>\n",
       "</div>"
      ],
      "text/plain": [
       "                                                    Raabe,-Wilhelm_Im-alten-Eisen  \\\n",
       "Raabe,-Wilhelm_Im-alten-Eisen                                            0.000000   \n",
       "Fontane,-Theodor_Der-Stechlin                                            1.343237   \n",
       "Raabe,-Wilhelm_Stopfkuchen                                               0.624532   \n",
       "Marlitt,-Eugenie_Das-Geheimnis-der-alten-Mamsell                         1.200938   \n",
       "Raabe,-Wilhelm_Die-Chronik-der-Sperlingsgasse                            0.732207   \n",
       "Marlitt,-Eugenie_Die-Frau-mit-den-Karfunkelsteinen                       1.215720   \n",
       "Fontane,-Theodor_Frau-Jenny-Treibel                                      0.886441   \n",
       "Fontane,-Theodor_Effi-Briest                                             1.258676   \n",
       "Marlitt,-Eugenie_Das-Heideprinzesschen                                   1.395609   \n",
       "\n",
       "                                                    Fontane,-Theodor_Der-Stechlin  \\\n",
       "Raabe,-Wilhelm_Im-alten-Eisen                                            1.343237   \n",
       "Fontane,-Theodor_Der-Stechlin                                            0.000000   \n",
       "Raabe,-Wilhelm_Stopfkuchen                                               1.246155   \n",
       "Marlitt,-Eugenie_Das-Geheimnis-der-alten-Mamsell                         1.331243   \n",
       "Raabe,-Wilhelm_Die-Chronik-der-Sperlingsgasse                            1.402441   \n",
       "Marlitt,-Eugenie_Die-Frau-mit-den-Karfunkelsteinen                       1.257329   \n",
       "Fontane,-Theodor_Frau-Jenny-Treibel                                      1.017926   \n",
       "Fontane,-Theodor_Effi-Briest                                             0.640157   \n",
       "Marlitt,-Eugenie_Das-Heideprinzesschen                                   1.119296   \n",
       "\n",
       "                                                    Raabe,-Wilhelm_Stopfkuchen  \\\n",
       "Raabe,-Wilhelm_Im-alten-Eisen                                         0.624532   \n",
       "Fontane,-Theodor_Der-Stechlin                                         1.246155   \n",
       "Raabe,-Wilhelm_Stopfkuchen                                            0.000000   \n",
       "Marlitt,-Eugenie_Das-Geheimnis-der-alten-Mamsell                      1.268060   \n",
       "Raabe,-Wilhelm_Die-Chronik-der-Sperlingsgasse                         0.793546   \n",
       "Marlitt,-Eugenie_Die-Frau-mit-den-Karfunkelsteinen                    1.247171   \n",
       "Fontane,-Theodor_Frau-Jenny-Treibel                                   0.909698   \n",
       "Fontane,-Theodor_Effi-Briest                                          1.209208   \n",
       "Marlitt,-Eugenie_Das-Heideprinzesschen                                1.387786   \n",
       "\n",
       "                                                    Marlitt,-Eugenie_Das-Geheimnis-der-alten-Mamsell  \\\n",
       "Raabe,-Wilhelm_Im-alten-Eisen                                                               1.200938   \n",
       "Fontane,-Theodor_Der-Stechlin                                                               1.331243   \n",
       "Raabe,-Wilhelm_Stopfkuchen                                                                  1.268060   \n",
       "Marlitt,-Eugenie_Das-Geheimnis-der-alten-Mamsell                                            0.000000   \n",
       "Raabe,-Wilhelm_Die-Chronik-der-Sperlingsgasse                                               1.133478   \n",
       "Marlitt,-Eugenie_Die-Frau-mit-den-Karfunkelsteinen                                          0.801244   \n",
       "Fontane,-Theodor_Frau-Jenny-Treibel                                                         1.267795   \n",
       "Fontane,-Theodor_Effi-Briest                                                                1.304392   \n",
       "Marlitt,-Eugenie_Das-Heideprinzesschen                                                      0.725335   \n",
       "\n",
       "                                                    Raabe,-Wilhelm_Die-Chronik-der-Sperlingsgasse  \\\n",
       "Raabe,-Wilhelm_Im-alten-Eisen                                                            0.732207   \n",
       "Fontane,-Theodor_Der-Stechlin                                                            1.402441   \n",
       "Raabe,-Wilhelm_Stopfkuchen                                                               0.793546   \n",
       "Marlitt,-Eugenie_Das-Geheimnis-der-alten-Mamsell                                         1.133478   \n",
       "Raabe,-Wilhelm_Die-Chronik-der-Sperlingsgasse                                            0.000000   \n",
       "Marlitt,-Eugenie_Die-Frau-mit-den-Karfunkelsteinen                                       1.203421   \n",
       "Fontane,-Theodor_Frau-Jenny-Treibel                                                      0.837908   \n",
       "Fontane,-Theodor_Effi-Briest                                                             1.280661   \n",
       "Marlitt,-Eugenie_Das-Heideprinzesschen                                                   1.329303   \n",
       "\n",
       "                                                    Marlitt,-Eugenie_Die-Frau-mit-den-Karfunkelsteinen  \\\n",
       "Raabe,-Wilhelm_Im-alten-Eisen                                                                1.215720    \n",
       "Fontane,-Theodor_Der-Stechlin                                                                1.257329    \n",
       "Raabe,-Wilhelm_Stopfkuchen                                                                   1.247171    \n",
       "Marlitt,-Eugenie_Das-Geheimnis-der-alten-Mamsell                                             0.801244    \n",
       "Raabe,-Wilhelm_Die-Chronik-der-Sperlingsgasse                                                1.203421    \n",
       "Marlitt,-Eugenie_Die-Frau-mit-den-Karfunkelsteinen                                           0.000000    \n",
       "Fontane,-Theodor_Frau-Jenny-Treibel                                                          1.354223    \n",
       "Fontane,-Theodor_Effi-Briest                                                                 1.260774    \n",
       "Marlitt,-Eugenie_Das-Heideprinzesschen                                                       0.722380    \n",
       "\n",
       "                                                    Fontane,-Theodor_Frau-Jenny-Treibel  \\\n",
       "Raabe,-Wilhelm_Im-alten-Eisen                                                  0.886441   \n",
       "Fontane,-Theodor_Der-Stechlin                                                  1.017926   \n",
       "Raabe,-Wilhelm_Stopfkuchen                                                     0.909698   \n",
       "Marlitt,-Eugenie_Das-Geheimnis-der-alten-Mamsell                               1.267795   \n",
       "Raabe,-Wilhelm_Die-Chronik-der-Sperlingsgasse                                  0.837908   \n",
       "Marlitt,-Eugenie_Die-Frau-mit-den-Karfunkelsteinen                             1.354223   \n",
       "Fontane,-Theodor_Frau-Jenny-Treibel                                            0.000000   \n",
       "Fontane,-Theodor_Effi-Briest                                                   0.897811   \n",
       "Marlitt,-Eugenie_Das-Heideprinzesschen                                         1.506644   \n",
       "\n",
       "                                                    Fontane,-Theodor_Effi-Briest  \\\n",
       "Raabe,-Wilhelm_Im-alten-Eisen                                           1.258676   \n",
       "Fontane,-Theodor_Der-Stechlin                                           0.640157   \n",
       "Raabe,-Wilhelm_Stopfkuchen                                              1.209208   \n",
       "Marlitt,-Eugenie_Das-Geheimnis-der-alten-Mamsell                        1.304392   \n",
       "Raabe,-Wilhelm_Die-Chronik-der-Sperlingsgasse                           1.280661   \n",
       "Marlitt,-Eugenie_Die-Frau-mit-den-Karfunkelsteinen                      1.260774   \n",
       "Fontane,-Theodor_Frau-Jenny-Treibel                                     0.897811   \n",
       "Fontane,-Theodor_Effi-Briest                                            0.000000   \n",
       "Marlitt,-Eugenie_Das-Heideprinzesschen                                  1.215294   \n",
       "\n",
       "                                                    Marlitt,-Eugenie_Das-Heideprinzesschen  \n",
       "Raabe,-Wilhelm_Im-alten-Eisen                                                     1.395609  \n",
       "Fontane,-Theodor_Der-Stechlin                                                     1.119296  \n",
       "Raabe,-Wilhelm_Stopfkuchen                                                        1.387786  \n",
       "Marlitt,-Eugenie_Das-Geheimnis-der-alten-Mamsell                                  0.725335  \n",
       "Raabe,-Wilhelm_Die-Chronik-der-Sperlingsgasse                                     1.329303  \n",
       "Marlitt,-Eugenie_Die-Frau-mit-den-Karfunkelsteinen                                0.722380  \n",
       "Fontane,-Theodor_Frau-Jenny-Treibel                                               1.506644  \n",
       "Fontane,-Theodor_Effi-Briest                                                      1.215294  \n",
       "Marlitt,-Eugenie_Das-Heideprinzesschen                                            0.000000  "
      ]
     },
     "execution_count": 3,
     "metadata": {},
     "output_type": "execute_result"
    }
   ],
   "source": [
    "distances = delta.functions.cosine_delta(corpus)\n",
    "distances"
   ]
  },
  {
   "cell_type": "code",
   "execution_count": 4,
   "metadata": {
    "slideshow": {
     "slide_type": "subslide"
    }
   },
   "outputs": [
    {
     "data": {
      "text/plain": [
       "1.851976045085546"
      ]
     },
     "execution_count": 4,
     "metadata": {},
     "output_type": "execute_result"
    }
   ],
   "source": [
    "distances.simple_score()"
   ]
  },
  {
   "cell_type": "code",
   "execution_count": 5,
   "metadata": {
    "slideshow": {
     "slide_type": "-"
    }
   },
   "outputs": [
    {
     "data": {
      "text/plain": [
       "Metadata(complete=False, corpus='test/corpus3/', delta='cosine_delta', delta_descriptor='cosine-z_score', delta_title='Cosine Delta', features='words', frequencies=False, lower_case=False, normalization=('z_score',), ordered=True, words=2500)"
      ]
     },
     "execution_count": 5,
     "metadata": {},
     "output_type": "execute_result"
    }
   ],
   "source": [
    "distances.metadata"
   ]
  },
  {
   "cell_type": "markdown",
   "metadata": {
    "slideshow": {
     "slide_type": "slide"
    }
   },
   "source": [
    "### Nun ein hierarchisches Clustering"
   ]
  },
  {
   "cell_type": "code",
   "execution_count": 6,
   "metadata": {},
   "outputs": [
    {
     "name": "stderr",
     "output_type": "stream",
     "text": [
      "/home/tv/git/pydelta/delta/graphics.py:88: MatplotlibDeprecationWarning: Passing the pad parameter of tight_layout() positionally is deprecated since Matplotlib 3.3; the parameter will become keyword-only two minor releases later.\n",
      "  plt.tight_layout(2)\n"
     ]
    },
    {
     "data": {
      "image/png": "[encoded data removed]",
      "text/plain": [
       "<Figure size 432x288 with 1 Axes>"
      ]
     },
     "metadata": {},
     "output_type": "display_data"
    }
   ],
   "source": [
    "hclust = delta.Clustering(distances)\n",
    "delta.Dendrogram(hclust).show()"
   ]
  },
  {
   "cell_type": "markdown",
   "metadata": {
    "slideshow": {
     "slide_type": "subslide"
    }
   },
   "source": [
    "### Flachklopfen"
   ]
  },
  {
   "cell_type": "code",
   "execution_count": 7,
   "metadata": {
    "slideshow": {
     "slide_type": "-"
    }
   },
   "outputs": [
    {
     "name": "stdout",
     "output_type": "stream",
     "text": [
      "3 clusters of 9 documents (ground truth: 3 groups):\n",
      "{1: ['Marlitt: Geheimnis der alten Mams…', 'Marlitt: Frau mit den Karfunkelst…',\n",
      "     'Marlitt: Heideprinzesschen'],\n",
      " 2: ['Fontane: Stechlin', 'Fontane: Effi Briest'],\n",
      " 3: ['Raabe: Im alten Eisen', 'Raabe: Stopfkuchen',\n",
      "     'Raabe: Chronik der Sperlingsgas…', 'Fontane: Frau Jenny Treibel']}\n",
      "\n",
      "Cluster Errors         1.000000\n",
      "Adjusted Rand Index    0.642857\n",
      "Homogeneity            0.772507\n",
      "Completeness           0.800000\n",
      "V Measure              0.786013\n",
      "Purity                 0.888889\n",
      "Entropy                0.227493\n",
      "dtype: float64\n"
     ]
    }
   ],
   "source": [
    "fclust = hclust.fclustering()\n",
    "print(fclust.describe())\n",
    "print(fclust.evaluate())"
   ]
  },
  {
   "cell_type": "markdown",
   "metadata": {
    "slideshow": {
     "slide_type": "slide"
    }
   },
   "source": [
    "### Deltafunktionen\n",
    "\n",
    "Cosine Delta kann jeder. Was gibts denn sonst so?"
   ]
  },
  {
   "cell_type": "code",
   "execution_count": 8,
   "metadata": {
    "slideshow": {
     "slide_type": "-"
    }
   },
   "outputs": [
    {
     "data": {
      "text/html": [
       "<h4>Delta Functions</h4><ol><li><code>Linear Delta</code> = linear</li><li><code>distance</code> = linear2</li><li><code>_classic_delta</code> = burrows2</li><li><code>manhattan</code> <em>Manhattan Distance</em></li><li><code>euclidean</code> <em>Euclidean Distance</em></li><li><code>sqeuclidean</code> <em>Squared Euclidean Distance</em></li><li><code>cosine</code> <em>Cosine Distance</em></li><li><code>canberra</code> <em>Canberra Distance</em></li><li><code>braycurtis</code> <em>Bray-Curtis Distance</em></li><li><code>correlation</code> <em>Correlation Distance</em></li><li><code>chebyshev</code> <em>Chebyshev Distance</em></li><li><code>burrows</code> <em>Burrows' Delta</em> = manhattan-z_score</li><li><code>quadratic</code> <em>Quadratic Delta</em> = sqeuclidean-z_score</li><li><code>eder</code> <em>Eder's Delta</em> = manhattan-z_score-eder_std</li><li><code>eder_simple</code> <em>Eder's Simple</em> = manhattan-sqrt</li><li><code>cosine_delta</code> <em>Cosine Delta</em> = cosine-z_score</ol><h4>Normalizations</h4><ol><li>z_score (Z-Score)</li><li>eder_std</li><li>binarize</li><li>length_normalized</li><li>diversity_scaled</li><li>sqrt</li><li>clamp</li><li>ternarize"
      ],
      "text/plain": [
       "<delta.deltas._FunctionRegistry at 0x7f12ebed1eb0>"
      ]
     },
     "execution_count": 8,
     "metadata": {},
     "output_type": "execute_result"
    }
   ],
   "source": [
    "delta.functions"
   ]
  },
  {
   "cell_type": "markdown",
   "metadata": {
    "slideshow": {
     "slide_type": "subslide"
    }
   },
   "source": [
    "Da fehlt Everts Ternarisierung! Erstmal eine Normalisierungsfunktion schreiben:"
   ]
  },
  {
   "cell_type": "code",
   "execution_count": 9,
   "metadata": {
    "slideshow": {
     "slide_type": "fragment"
    }
   },
   "outputs": [
    {
     "name": "stderr",
     "output_type": "stream",
     "text": [
      "Registering ternarize as ternarize, replacing existing function with this name\n"
     ]
    }
   ],
   "source": [
    "@delta.normalization\n",
    "def ternarize(z):    \n",
    "    result = pd.DataFrame(np.zeros_like(z), index=z.index, columns=z.columns)\n",
    "    result[z < -2/3] = -1\n",
    "    result[z > +2/3] = +1\n",
    "    return result"
   ]
  },
  {
   "cell_type": "markdown",
   "metadata": {
    "slideshow": {
     "slide_type": "fragment"
    }
   },
   "source": [
    "Nun in eine Deltafunktion einbauen."
   ]
  },
  {
   "cell_type": "code",
   "execution_count": 10,
   "metadata": {
    "slideshow": {
     "slide_type": "fragment"
    }
   },
   "outputs": [
    {
     "data": {
      "text/html": [
       "<code>ternarized_delta</code> <em>Ternarized Delta</em> = euclidean-z_score-ternarize"
      ],
      "text/plain": [
       "<delta.deltas.CompositeDeltaFunction at 0x7f12de64bdc0>"
      ]
     },
     "execution_count": 10,
     "metadata": {},
     "output_type": "execute_result"
    }
   ],
   "source": [
    "delta.deltas.CompositeDeltaFunction(descriptor=\"euclidean-z_score-ternarize\", name=\"ternarized_delta\", title=\"Ternarized Delta\")\n",
    "#  heute schrübe ich das nicht mehr so -----------´"
   ]
  },
  {
   "cell_type": "code",
   "execution_count": 11,
   "metadata": {
    "slideshow": {
     "slide_type": "subslide"
    }
   },
   "outputs": [
    {
     "name": "stderr",
     "output_type": "stream",
     "text": [
      "/home/tv/git/pydelta/delta/graphics.py:88: MatplotlibDeprecationWarning: Passing the pad parameter of tight_layout() positionally is deprecated since Matplotlib 3.3; the parameter will become keyword-only two minor releases later.\n",
      "  plt.tight_layout(2)\n"
     ]
    },
    {
     "data": {
      "image/png": "[encoded data removed]",
      "text/plain": [
       "<Figure size 432x288 with 1 Axes>"
      ]
     },
     "metadata": {},
     "output_type": "display_data"
    }
   ],
   "source": [
    "distances_t = delta.functions.ternarized_delta(corpus)\n",
    "hclust_t = delta.Clustering(distances_t)\n",
    "delta.Dendrogram(hclust_t).show()"
   ]
  },
  {
   "cell_type": "code",
   "execution_count": 12,
   "metadata": {
    "slideshow": {
     "slide_type": "subslide"
    }
   },
   "outputs": [
    {
     "name": "stdout",
     "output_type": "stream",
     "text": [
      "F-Ratio         0.703738\n",
      "Fisher's LD     7.042422\n",
      "Simple Score    1.537760\n",
      "dtype: float64\n"
     ]
    }
   ],
   "source": [
    "print(distances_t.evaluate())"
   ]
  },
  {
   "cell_type": "code",
   "execution_count": 13,
   "metadata": {
    "slideshow": {
     "slide_type": "-"
    }
   },
   "outputs": [
    {
     "data": {
      "text/plain": [
       "Metadata(complete=False, corpus='test/corpus3/', delta='ternarized_delta', delta_descriptor='euclidean-z_score-ternarize', delta_title='Ternarized Delta', features='words', frequencies=False, lower_case=False, normalization=('z_score', 'ternarize'), ordered=True, words=2500)"
      ]
     },
     "execution_count": 13,
     "metadata": {},
     "output_type": "execute_result"
    }
   ],
   "source": [
    "distances_t.metadata"
   ]
  },
  {
   "cell_type": "code",
   "execution_count": 14,
   "metadata": {},
   "outputs": [
    {
     "data": {
      "text/plain": [
       "<AxesSubplot:>"
      ]
     },
     "execution_count": 14,
     "metadata": {},
     "output_type": "execute_result"
    },
    {
     "data": {
      "image/png": "[encoded data removed]",
      "text/plain": [
       "<Figure size 648x144 with 1 Axes>"
      ]
     },
     "metadata": {
      "needs_background": "light"
     },
     "output_type": "display_data"
    }
   ],
   "source": [
    "delta.graphics.spikeplot(delta.functions.ternarize(delta.functions.z_score(corpus.top_n(1000))), docs=[0,1,3])"
   ]
  },
  {
   "cell_type": "code",
   "execution_count": null,
   "metadata": {},
   "outputs": [],
   "source": []
  }
 ],
 "metadata": {
  "celltoolbar": "Slideshow",
  "kernelspec": {
   "display_name": "pydelta",
   "language": "python",
   "name": "pydelta"
  },
  "language_info": {
   "codemirror_mode": {
    "name": "ipython",
    "version": 3
   },
   "file_extension": ".py",
   "mimetype": "text/x-python",
   "name": "python",
   "nbconvert_exporter": "python",
   "pygments_lexer": "ipython3",
   "version": "3.9.5"
  }
 },
 "nbformat": 4,
 "nbformat_minor": 2
}
