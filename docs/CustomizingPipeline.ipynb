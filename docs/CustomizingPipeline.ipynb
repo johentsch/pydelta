{
 "cells": [
  {
   "cell_type": "markdown",
   "metadata": {},
   "source": [
    "## Customizing the pipeline\n",
    "\n",
    "### Reading the corpus\n",
    "\n",
    "The Corpus class that represents the feature matrix which is the starting point for the analysis basically is a data frame that maps combinations of documents and features to feature counts. When _building_ the representation, it uses two helper classes to decouple aspects that are relevant for building the feature matrix: FeatureGenerator performs the actual reading and feature counting, DocumentDescriber provides labels and groupings for the documents that can be used in visualization and evaluation steps.\n",
    "\n",
    "When you just create a corpus using `delta.Corpus(directory)`, default versions will be used, but stuff can be customized:"
   ]
  },
  {
   "cell_type": "code",
   "execution_count": 1,
   "metadata": {},
   "outputs": [
    {
     "name": "stdout",
     "output_type": "stream",
     "text": [
      "Help on function __init__ in module delta.corpus:\n",
      "\n",
      "__init__(self, _source=None, /, *, subdir=None, file=None, corpus=None, feature_generator=None, document_describer=<delta.util.DefaultDocumentDescriber object at 0x7f0cc05b7670>, metadata=None, **kwargs)\n",
      "    Creates a new Corpus.\n",
      "    \n",
      "    Args:\n",
      "        subdir (str): Path to a subdirectory containing the (unprocessed) corpus data.\n",
      "        file (str): Path to a CSV file containing the feature vectors.\n",
      "        corpus (pandas.DataFrame): A dataframe or :class:`Corpus` from which to create a new corpus, as a copy.\n",
      "        feature_generator (FeatureGenerator): A customizeable helper class that will process a `subdir` to a feature matrix, if the `subdir` argument is also given. If None, a default feature generator will be used.\n",
      "        metadata (dict): A dictionary with metadata to copy into the new corpus.\n",
      "        **kwargs: Additionally, if feature_generator is None and subdir is not None, you can pass FeatureGenerator\n",
      "            arguments and they will be used when instantiating the feature generator\n",
      "            Additional keyword arguments will be set in the metadata record of the new corpus.\n",
      "\n"
     ]
    }
   ],
   "source": [
    "import delta\n",
    "from matplotlib import pyplot as plt\n",
    "help(delta.Corpus.__init__)"
   ]
  },
  {
   "cell_type": "markdown",
   "metadata": {},
   "source": [
    "E.g., to create a corpus that ignores case differences and reads only the first 5000 tokens of each text (`lower_case` and `max_tokens` are arguments to the default FeatureGenerator):"
   ]
  },
  {
   "cell_type": "code",
   "execution_count": 2,
   "metadata": {},
   "outputs": [
    {
     "data": {
      "text/html": [
       "<div>\n",
       "<style scoped>\n",
       "    .dataframe tbody tr th:only-of-type {\n",
       "        vertical-align: middle;\n",
       "    }\n",
       "\n",
       "    .dataframe tbody tr th {\n",
       "        vertical-align: top;\n",
       "    }\n",
       "\n",
       "    .dataframe thead th {\n",
       "        text-align: right;\n",
       "    }\n",
       "</style>\n",
       "<table border=\"1\" class=\"dataframe\">\n",
       "  <thead>\n",
       "    <tr style=\"text-align: right;\">\n",
       "      <th></th>\n",
       "      <th>say</th>\n",
       "      <th>sir</th>\n",
       "      <th>how</th>\n",
       "      <th>its</th>\n",
       "      <th>house</th>\n",
       "      <th>way</th>\n",
       "      <th>after</th>\n",
       "      <th>father</th>\n",
       "      <th>long</th>\n",
       "      <th>mother</th>\n",
       "    </tr>\n",
       "  </thead>\n",
       "  <tbody>\n",
       "    <tr>\n",
       "      <th>ward_ashe</th>\n",
       "      <td>6.0</td>\n",
       "      <td>2.0</td>\n",
       "      <td>10.0</td>\n",
       "      <td>4.0</td>\n",
       "      <td>8.0</td>\n",
       "      <td>5.0</td>\n",
       "      <td>6.0</td>\n",
       "      <td>4.0</td>\n",
       "      <td>3.0</td>\n",
       "      <td>17.0</td>\n",
       "    </tr>\n",
       "    <tr>\n",
       "      <th>blackmore_springhaven</th>\n",
       "      <td>2.0</td>\n",
       "      <td>1.0</td>\n",
       "      <td>7.0</td>\n",
       "      <td>12.0</td>\n",
       "      <td>3.0</td>\n",
       "      <td>7.0</td>\n",
       "      <td>5.0</td>\n",
       "      <td>5.0</td>\n",
       "      <td>9.0</td>\n",
       "      <td>2.0</td>\n",
       "    </tr>\n",
       "    <tr>\n",
       "      <th>stevenson_island</th>\n",
       "      <td>5.0</td>\n",
       "      <td>4.0</td>\n",
       "      <td>4.0</td>\n",
       "      <td>0.0</td>\n",
       "      <td>7.0</td>\n",
       "      <td>10.0</td>\n",
       "      <td>5.0</td>\n",
       "      <td>12.0</td>\n",
       "      <td>5.0</td>\n",
       "      <td>5.0</td>\n",
       "    </tr>\n",
       "    <tr>\n",
       "      <th>thackeray_esmond</th>\n",
       "      <td>8.0</td>\n",
       "      <td>3.0</td>\n",
       "      <td>10.0</td>\n",
       "      <td>3.0</td>\n",
       "      <td>9.0</td>\n",
       "      <td>2.0</td>\n",
       "      <td>17.0</td>\n",
       "      <td>14.0</td>\n",
       "      <td>5.0</td>\n",
       "      <td>13.0</td>\n",
       "    </tr>\n",
       "    <tr>\n",
       "      <th>ward_milly</th>\n",
       "      <td>4.0</td>\n",
       "      <td>1.0</td>\n",
       "      <td>14.0</td>\n",
       "      <td>5.0</td>\n",
       "      <td>8.0</td>\n",
       "      <td>11.0</td>\n",
       "      <td>5.0</td>\n",
       "      <td>15.0</td>\n",
       "      <td>12.0</td>\n",
       "      <td>48.0</td>\n",
       "    </tr>\n",
       "  </tbody>\n",
       "</table>\n",
       "</div>"
      ],
      "text/plain": [
       "                       say  sir   how   its  house   way  after  father  long  \\\n",
       "ward_ashe              6.0  2.0  10.0   4.0    8.0   5.0    6.0     4.0   3.0   \n",
       "blackmore_springhaven  2.0  1.0   7.0  12.0    3.0   7.0    5.0     5.0   9.0   \n",
       "stevenson_island       5.0  4.0   4.0   0.0    7.0  10.0    5.0    12.0   5.0   \n",
       "thackeray_esmond       8.0  3.0  10.0   3.0    9.0   2.0   17.0    14.0   5.0   \n",
       "ward_milly             4.0  1.0  14.0   5.0    8.0  11.0    5.0    15.0  12.0   \n",
       "\n",
       "                       mother  \n",
       "ward_ashe                17.0  \n",
       "blackmore_springhaven     2.0  \n",
       "stevenson_island          5.0  \n",
       "thackeray_esmond         13.0  \n",
       "ward_milly               48.0  "
      ]
     },
     "execution_count": 2,
     "metadata": {},
     "output_type": "execute_result"
    }
   ],
   "source": [
    "corpus = delta.Corpus('../../refcor/English', lower_case=True, max_tokens=5000)\n",
    "corpus.iloc[:5,100:110]"
   ]
  },
  {
   "cell_type": "markdown",
   "metadata": {},
   "source": [
    "It is also possible to roll your own feature generator. As an example, we would like to use lemmas instead of word forms as features. For that, we would like to read a version of our corpus that has been preprocessed using the DARIAH DKPro wrapper.\n",
    "\n",
    "A file like this is essentially a table that contains a line per token with various analyses in the columns:"
   ]
  },
  {
   "cell_type": "code",
   "execution_count": 3,
   "metadata": {},
   "outputs": [
    {
     "data": {
      "text/html": [
       "<div>\n",
       "<style scoped>\n",
       "    .dataframe tbody tr th:only-of-type {\n",
       "        vertical-align: middle;\n",
       "    }\n",
       "\n",
       "    .dataframe tbody tr th {\n",
       "        vertical-align: top;\n",
       "    }\n",
       "\n",
       "    .dataframe thead th {\n",
       "        text-align: right;\n",
       "    }\n",
       "</style>\n",
       "<table border=\"1\" class=\"dataframe\">\n",
       "  <thead>\n",
       "    <tr style=\"text-align: right;\">\n",
       "      <th></th>\n",
       "      <th>SectionId</th>\n",
       "      <th>ParagraphId</th>\n",
       "      <th>SentenceId</th>\n",
       "      <th>TokenId</th>\n",
       "      <th>Begin</th>\n",
       "      <th>End</th>\n",
       "      <th>Token</th>\n",
       "      <th>Lemma</th>\n",
       "      <th>CPOS</th>\n",
       "      <th>POS</th>\n",
       "      <th>...</th>\n",
       "      <th>Morphology</th>\n",
       "      <th>Hyphenation</th>\n",
       "      <th>DependencyHead</th>\n",
       "      <th>DependencyRelation</th>\n",
       "      <th>NamedEntity</th>\n",
       "      <th>QuoteMarker</th>\n",
       "      <th>CoreferenceChainIds</th>\n",
       "      <th>SyntaxTree</th>\n",
       "      <th>Predicate</th>\n",
       "      <th>SemanticArgumentIndex</th>\n",
       "    </tr>\n",
       "  </thead>\n",
       "  <tbody>\n",
       "    <tr>\n",
       "      <th>1003</th>\n",
       "      <td>_</td>\n",
       "      <td>8</td>\n",
       "      <td>24</td>\n",
       "      <td>1003</td>\n",
       "      <td>5826</td>\n",
       "      <td>5836</td>\n",
       "      <td>Thatsachen</td>\n",
       "      <td>Thatsachen</td>\n",
       "      <td>NN</td>\n",
       "      <td>NN</td>\n",
       "      <td>...</td>\n",
       "      <td>_</td>\n",
       "      <td>That-sa-chen</td>\n",
       "      <td>1002</td>\n",
       "      <td>NK</td>\n",
       "      <td>_</td>\n",
       "      <td>0</td>\n",
       "      <td>_</td>\n",
       "      <td>_</td>\n",
       "      <td>_</td>\n",
       "      <td>_</td>\n",
       "    </tr>\n",
       "    <tr>\n",
       "      <th>1004</th>\n",
       "      <td>_</td>\n",
       "      <td>8</td>\n",
       "      <td>24</td>\n",
       "      <td>1004</td>\n",
       "      <td>5837</td>\n",
       "      <td>5844</td>\n",
       "      <td>annimmt</td>\n",
       "      <td>annehmen</td>\n",
       "      <td>V</td>\n",
       "      <td>VVFIN</td>\n",
       "      <td>...</td>\n",
       "      <td>_</td>\n",
       "      <td>an-nimmt</td>\n",
       "      <td>991</td>\n",
       "      <td>CJ</td>\n",
       "      <td>_</td>\n",
       "      <td>0</td>\n",
       "      <td>_</td>\n",
       "      <td>_</td>\n",
       "      <td>_</td>\n",
       "      <td>_</td>\n",
       "    </tr>\n",
       "    <tr>\n",
       "      <th>1005</th>\n",
       "      <td>_</td>\n",
       "      <td>8</td>\n",
       "      <td>24</td>\n",
       "      <td>1005</td>\n",
       "      <td>5844</td>\n",
       "      <td>5845</td>\n",
       "      <td>,</td>\n",
       "      <td>,</td>\n",
       "      <td>PUNC</td>\n",
       "      <td>$,</td>\n",
       "      <td>...</td>\n",
       "      <td>_</td>\n",
       "      <td>,</td>\n",
       "      <td>1004</td>\n",
       "      <td>--</td>\n",
       "      <td>_</td>\n",
       "      <td>0</td>\n",
       "      <td>_</td>\n",
       "      <td>_</td>\n",
       "      <td>_</td>\n",
       "      <td>_</td>\n",
       "    </tr>\n",
       "    <tr>\n",
       "      <th>1006</th>\n",
       "      <td>_</td>\n",
       "      <td>8</td>\n",
       "      <td>24</td>\n",
       "      <td>1006</td>\n",
       "      <td>5846</td>\n",
       "      <td>5848</td>\n",
       "      <td>so</td>\n",
       "      <td>so</td>\n",
       "      <td>ADV</td>\n",
       "      <td>ADV</td>\n",
       "      <td>...</td>\n",
       "      <td>_</td>\n",
       "      <td>so</td>\n",
       "      <td>1007</td>\n",
       "      <td>MO</td>\n",
       "      <td>_</td>\n",
       "      <td>0</td>\n",
       "      <td>_</td>\n",
       "      <td>_</td>\n",
       "      <td>_</td>\n",
       "      <td>_</td>\n",
       "    </tr>\n",
       "    <tr>\n",
       "      <th>1007</th>\n",
       "      <td>_</td>\n",
       "      <td>8</td>\n",
       "      <td>24</td>\n",
       "      <td>1007</td>\n",
       "      <td>5849</td>\n",
       "      <td>5853</td>\n",
       "      <td>wird</td>\n",
       "      <td>werden</td>\n",
       "      <td>V</td>\n",
       "      <td>VAFIN</td>\n",
       "      <td>...</td>\n",
       "      <td>_</td>\n",
       "      <td>wird</td>\n",
       "      <td>-1</td>\n",
       "      <td>--</td>\n",
       "      <td>_</td>\n",
       "      <td>0</td>\n",
       "      <td>_</td>\n",
       "      <td>_</td>\n",
       "      <td>_</td>\n",
       "      <td>_</td>\n",
       "    </tr>\n",
       "    <tr>\n",
       "      <th>...</th>\n",
       "      <td>...</td>\n",
       "      <td>...</td>\n",
       "      <td>...</td>\n",
       "      <td>...</td>\n",
       "      <td>...</td>\n",
       "      <td>...</td>\n",
       "      <td>...</td>\n",
       "      <td>...</td>\n",
       "      <td>...</td>\n",
       "      <td>...</td>\n",
       "      <td>...</td>\n",
       "      <td>...</td>\n",
       "      <td>...</td>\n",
       "      <td>...</td>\n",
       "      <td>...</td>\n",
       "      <td>...</td>\n",
       "      <td>...</td>\n",
       "      <td>...</td>\n",
       "      <td>...</td>\n",
       "      <td>...</td>\n",
       "      <td>...</td>\n",
       "    </tr>\n",
       "    <tr>\n",
       "      <th>10005</th>\n",
       "      <td>_</td>\n",
       "      <td>26</td>\n",
       "      <td>312</td>\n",
       "      <td>10005</td>\n",
       "      <td>55649</td>\n",
       "      <td>55650</td>\n",
       "      <td>;</td>\n",
       "      <td>;</td>\n",
       "      <td>PUNC</td>\n",
       "      <td>$.</td>\n",
       "      <td>...</td>\n",
       "      <td>_</td>\n",
       "      <td>;</td>\n",
       "      <td>10004</td>\n",
       "      <td>--</td>\n",
       "      <td>_</td>\n",
       "      <td>0</td>\n",
       "      <td>_</td>\n",
       "      <td>_</td>\n",
       "      <td>_</td>\n",
       "      <td>_</td>\n",
       "    </tr>\n",
       "    <tr>\n",
       "      <th>10006</th>\n",
       "      <td>_</td>\n",
       "      <td>26</td>\n",
       "      <td>312</td>\n",
       "      <td>10006</td>\n",
       "      <td>55651</td>\n",
       "      <td>55654</td>\n",
       "      <td>sie</td>\n",
       "      <td>sie</td>\n",
       "      <td>PR</td>\n",
       "      <td>PPER</td>\n",
       "      <td>...</td>\n",
       "      <td>_</td>\n",
       "      <td>sie</td>\n",
       "      <td>10007</td>\n",
       "      <td>SB</td>\n",
       "      <td>_</td>\n",
       "      <td>0</td>\n",
       "      <td>_</td>\n",
       "      <td>_</td>\n",
       "      <td>_</td>\n",
       "      <td>_</td>\n",
       "    </tr>\n",
       "    <tr>\n",
       "      <th>10007</th>\n",
       "      <td>_</td>\n",
       "      <td>26</td>\n",
       "      <td>312</td>\n",
       "      <td>10007</td>\n",
       "      <td>55655</td>\n",
       "      <td>55660</td>\n",
       "      <td>sagte</td>\n",
       "      <td>sagen</td>\n",
       "      <td>V</td>\n",
       "      <td>VVFIN</td>\n",
       "      <td>...</td>\n",
       "      <td>_</td>\n",
       "      <td>sag-te</td>\n",
       "      <td>9997</td>\n",
       "      <td>CJ</td>\n",
       "      <td>_</td>\n",
       "      <td>0</td>\n",
       "      <td>_</td>\n",
       "      <td>_</td>\n",
       "      <td>_</td>\n",
       "      <td>_</td>\n",
       "    </tr>\n",
       "    <tr>\n",
       "      <th>10008</th>\n",
       "      <td>_</td>\n",
       "      <td>26</td>\n",
       "      <td>312</td>\n",
       "      <td>10008</td>\n",
       "      <td>55661</td>\n",
       "      <td>55664</td>\n",
       "      <td>ihm</td>\n",
       "      <td>er</td>\n",
       "      <td>PR</td>\n",
       "      <td>PPER</td>\n",
       "      <td>...</td>\n",
       "      <td>_</td>\n",
       "      <td>ihm</td>\n",
       "      <td>10007</td>\n",
       "      <td>DA</td>\n",
       "      <td>_</td>\n",
       "      <td>0</td>\n",
       "      <td>_</td>\n",
       "      <td>_</td>\n",
       "      <td>_</td>\n",
       "      <td>_</td>\n",
       "    </tr>\n",
       "    <tr>\n",
       "      <th>10009</th>\n",
       "      <td>_</td>\n",
       "      <td>26</td>\n",
       "      <td>312</td>\n",
       "      <td>10009</td>\n",
       "      <td>55665</td>\n",
       "      <td>55669</td>\n",
       "      <td>kein</td>\n",
       "      <td>keine</td>\n",
       "      <td>PR</td>\n",
       "      <td>PIAT</td>\n",
       "      <td>...</td>\n",
       "      <td>_</td>\n",
       "      <td>kein</td>\n",
       "      <td>10010</td>\n",
       "      <td>NK</td>\n",
       "      <td>_</td>\n",
       "      <td>0</td>\n",
       "      <td>_</td>\n",
       "      <td>_</td>\n",
       "      <td>_</td>\n",
       "      <td>_</td>\n",
       "    </tr>\n",
       "  </tbody>\n",
       "</table>\n",
       "<p>9007 rows × 21 columns</p>\n",
       "</div>"
      ],
      "text/plain": [
       "      SectionId  ParagraphId  SentenceId  TokenId  Begin    End       Token  \\\n",
       "1003          _            8          24     1003   5826   5836  Thatsachen   \n",
       "1004          _            8          24     1004   5837   5844     annimmt   \n",
       "1005          _            8          24     1005   5844   5845           ,   \n",
       "1006          _            8          24     1006   5846   5848          so   \n",
       "1007          _            8          24     1007   5849   5853        wird   \n",
       "...         ...          ...         ...      ...    ...    ...         ...   \n",
       "10005         _           26         312    10005  55649  55650           ;   \n",
       "10006         _           26         312    10006  55651  55654         sie   \n",
       "10007         _           26         312    10007  55655  55660       sagte   \n",
       "10008         _           26         312    10008  55661  55664         ihm   \n",
       "10009         _           26         312    10009  55665  55669        kein   \n",
       "\n",
       "            Lemma  CPOS    POS  ... Morphology   Hyphenation DependencyHead  \\\n",
       "1003   Thatsachen    NN     NN  ...          _  That-sa-chen           1002   \n",
       "1004     annehmen     V  VVFIN  ...          _      an-nimmt            991   \n",
       "1005            ,  PUNC     $,  ...          _             ,           1004   \n",
       "1006           so   ADV    ADV  ...          _            so           1007   \n",
       "1007       werden     V  VAFIN  ...          _          wird             -1   \n",
       "...           ...   ...    ...  ...        ...           ...            ...   \n",
       "10005           ;  PUNC     $.  ...          _             ;          10004   \n",
       "10006         sie    PR   PPER  ...          _           sie          10007   \n",
       "10007       sagen     V  VVFIN  ...          _        sag-te           9997   \n",
       "10008          er    PR   PPER  ...          _           ihm          10007   \n",
       "10009       keine    PR   PIAT  ...          _          kein          10010   \n",
       "\n",
       "       DependencyRelation NamedEntity QuoteMarker  CoreferenceChainIds  \\\n",
       "1003                   NK           _           0                    _   \n",
       "1004                   CJ           _           0                    _   \n",
       "1005                   --           _           0                    _   \n",
       "1006                   MO           _           0                    _   \n",
       "1007                   --           _           0                    _   \n",
       "...                   ...         ...         ...                  ...   \n",
       "10005                  --           _           0                    _   \n",
       "10006                  SB           _           0                    _   \n",
       "10007                  CJ           _           0                    _   \n",
       "10008                  DA           _           0                    _   \n",
       "10009                  NK           _           0                    _   \n",
       "\n",
       "      SyntaxTree Predicate SemanticArgumentIndex  \n",
       "1003           _         _                     _  \n",
       "1004           _         _                     _  \n",
       "1005           _         _                     _  \n",
       "1006           _         _                     _  \n",
       "1007           _         _                     _  \n",
       "...          ...       ...                   ...  \n",
       "10005          _         _                     _  \n",
       "10006          _         _                     _  \n",
       "10007          _         _                     _  \n",
       "10008          _         _                     _  \n",
       "10009          _         _                     _  \n",
       "\n",
       "[9007 rows x 21 columns]"
      ]
     },
     "execution_count": 3,
     "metadata": {},
     "output_type": "execute_result"
    }
   ],
   "source": [
    "import pandas as pd\n",
    "import csv\n",
    "dof_example = pd.read_table('../../refcor/dof/German/Huber,-Therese_Luise.txt.csv', quoting=csv.QUOTE_NONE, sep='\\t')\n",
    "dof_example.iloc[1003:10010]"
   ]
  },
  {
   "cell_type": "markdown",
   "metadata": {},
   "source": [
    "So, here is a simple lemma-based feature generator:"
   ]
  },
  {
   "cell_type": "code",
   "execution_count": 4,
   "metadata": {},
   "outputs": [],
   "source": [
    "class DOFLemmaFG(delta.FeatureGenerator):\n",
    "    \n",
    "    def process_file(self, filename):\n",
    "        dof = pd.read_table(filename, sep='\\t', quoting=csv.QUOTE_NONE)\n",
    "        tokens = dof[dof.CPOS != 'PUNC']                  # only non-punctuation tokens\n",
    "        counts = tokens.Lemma.value_counts()              # count the different values -> Series\n",
    "        counts.name = self.get_name(filename)\n",
    "        return counts"
   ]
  },
  {
   "cell_type": "markdown",
   "metadata": {},
   "source": [
    "Now, we can pass this in to Corpus:"
   ]
  },
  {
   "cell_type": "code",
   "execution_count": 5,
   "metadata": {},
   "outputs": [
    {
     "data": {
      "text/html": [
       "<div>\n",
       "<style scoped>\n",
       "    .dataframe tbody tr th:only-of-type {\n",
       "        vertical-align: middle;\n",
       "    }\n",
       "\n",
       "    .dataframe tbody tr th {\n",
       "        vertical-align: top;\n",
       "    }\n",
       "\n",
       "    .dataframe thead th {\n",
       "        text-align: right;\n",
       "    }\n",
       "</style>\n",
       "<table border=\"1\" class=\"dataframe\">\n",
       "  <thead>\n",
       "    <tr style=\"text-align: right;\">\n",
       "      <th></th>\n",
       "      <th>lieb</th>\n",
       "      <th>glauben</th>\n",
       "      <th>Mutter</th>\n",
       "      <th>ob</th>\n",
       "      <th>beide</th>\n",
       "    </tr>\n",
       "  </thead>\n",
       "  <tbody>\n",
       "    <tr>\n",
       "      <th>Goethe,-Johann-Wolfgang_Die%20Wahlverwandtschaften.txt</th>\n",
       "      <td>64.0</td>\n",
       "      <td>69.0</td>\n",
       "      <td>24.0</td>\n",
       "      <td>55.0</td>\n",
       "      <td>93.0</td>\n",
       "    </tr>\n",
       "    <tr>\n",
       "      <th>Raabe,-Wilhelm_Im%20alten%20Eisen.txt</th>\n",
       "      <td>121.0</td>\n",
       "      <td>21.0</td>\n",
       "      <td>149.0</td>\n",
       "      <td>40.0</td>\n",
       "      <td>71.0</td>\n",
       "    </tr>\n",
       "    <tr>\n",
       "      <th>Arnim,-Ludwig-Achim-von_Armut%20Reichtum%20Schuld%20und%20Buße%20der%20Gräfin%20Dolores.txt</th>\n",
       "      <td>152.0</td>\n",
       "      <td>124.0</td>\n",
       "      <td>95.0</td>\n",
       "      <td>107.0</td>\n",
       "      <td>188.0</td>\n",
       "    </tr>\n",
       "    <tr>\n",
       "      <th>Fischer,-Caroline-Auguste_Die%20Honigmonathe.txt</th>\n",
       "      <td>23.0</td>\n",
       "      <td>78.0</td>\n",
       "      <td>52.0</td>\n",
       "      <td>36.0</td>\n",
       "      <td>3.0</td>\n",
       "    </tr>\n",
       "    <tr>\n",
       "      <th>Ebner-Eschenbach,-Marie-von_Bozena.txt</th>\n",
       "      <td>39.0</td>\n",
       "      <td>33.0</td>\n",
       "      <td>74.0</td>\n",
       "      <td>44.0</td>\n",
       "      <td>57.0</td>\n",
       "    </tr>\n",
       "  </tbody>\n",
       "</table>\n",
       "</div>"
      ],
      "text/plain": [
       "                                                     lieb  glauben  Mutter  \\\n",
       "Goethe,-Johann-Wolfgang_Die%20Wahlverwandtschaf...   64.0     69.0    24.0   \n",
       "Raabe,-Wilhelm_Im%20alten%20Eisen.txt               121.0     21.0   149.0   \n",
       "Arnim,-Ludwig-Achim-von_Armut%20Reichtum%20Schu...  152.0    124.0    95.0   \n",
       "Fischer,-Caroline-Auguste_Die%20Honigmonathe.txt     23.0     78.0    52.0   \n",
       "Ebner-Eschenbach,-Marie-von_Bozena.txt               39.0     33.0    74.0   \n",
       "\n",
       "                                                       ob  beide  \n",
       "Goethe,-Johann-Wolfgang_Die%20Wahlverwandtschaf...   55.0   93.0  \n",
       "Raabe,-Wilhelm_Im%20alten%20Eisen.txt                40.0   71.0  \n",
       "Arnim,-Ludwig-Achim-von_Armut%20Reichtum%20Schu...  107.0  188.0  \n",
       "Fischer,-Caroline-Auguste_Die%20Honigmonathe.txt     36.0    3.0  \n",
       "Ebner-Eschenbach,-Marie-von_Bozena.txt               44.0   57.0  "
      ]
     },
     "execution_count": 5,
     "metadata": {},
     "output_type": "execute_result"
    }
   ],
   "source": [
    "lemma_corpus = delta.Corpus('../../refcor/dof/German', feature_generator=DOFLemmaFG(glob='*.txt.csv'), parallel=True)\n",
    "lemma_corpus.iloc[0:5,125:130]"
   ]
  },
  {
   "cell_type": "markdown",
   "metadata": {},
   "source": [
    "Rest of the steps can be performed as before:"
   ]
  },
  {
   "cell_type": "code",
   "execution_count": 6,
   "metadata": {},
   "outputs": [
    {
     "name": "stderr",
     "output_type": "stream",
     "text": [
      "/home/tv/git/pydelta/delta/graphics.py:89: MatplotlibDeprecationWarning: Passing the pad parameter of tight_layout() positionally is deprecated since Matplotlib 3.3; the parameter will become keyword-only two minor releases later.\n",
      "  plt.tight_layout(2)\n"
     ]
    },
    {
     "data": {
      "image/png": "[encoded data removed]",
      "text/plain": [
       "<Figure size 432x288 with 1 Axes>"
      ]
     },
     "metadata": {},
     "output_type": "display_data"
    }
   ],
   "source": [
    "c2500 = lemma_corpus.get_mfw_table(2500)\n",
    "distances = delta.functions.cosine_delta(c2500)\n",
    "clustering = delta.Clustering(distances)\n",
    "delta.Dendrogram(clustering).show()"
   ]
  },
  {
   "cell_type": "code",
   "execution_count": 7,
   "metadata": {},
   "outputs": [
    {
     "data": {
      "text/plain": [
       "F-Ratio                0.364821\n",
       "Fisher's LD            1.501815\n",
       "Simple Score           3.829410\n",
       "Cluster Errors         1.000000\n",
       "Adjusted Rand Index    0.965961\n",
       "Homogeneity            0.990683\n",
       "Completeness           0.992079\n",
       "V Measure              0.991380\n",
       "Purity                 0.986667\n",
       "Entropy                0.009317\n",
       "dtype: float64"
      ]
     },
     "execution_count": 7,
     "metadata": {},
     "output_type": "execute_result"
    }
   ],
   "source": [
    "pd.concat((distances.evaluate(), clustering.fclustering().evaluate()))"
   ]
  },
  {
   "cell_type": "markdown",
   "metadata": {},
   "source": [
    "### Deltas and Normalizations\n",
    "\n",
    "pyDelta provides a number of different delta functions, and it's easy to roll your own. You can list all available delta functions by looking at `delta.functions`. The functions are then available as, e.g., `delta.functions.burrows(corpus)`, and they all return a distance matrix."
   ]
  },
  {
   "cell_type": "code",
   "execution_count": 8,
   "metadata": {},
   "outputs": [
    {
     "data": {
      "text/html": [
       "<h4>Delta Functions</h4><ol><li><code>Linear Delta</code> = linear</li><li><code>distance</code> = linear2</li><li><code>_classic_delta</code> = burrows2</li><li><code>manhattan</code> <em>Manhattan Distance</em></li><li><code>euclidean</code> <em>Euclidean Distance</em></li><li><code>sqeuclidean</code> <em>Squared Euclidean Distance</em></li><li><code>cosine</code> <em>Cosine Distance</em></li><li><code>canberra</code> <em>Canberra Distance</em></li><li><code>braycurtis</code> <em>Bray-Curtis Distance</em></li><li><code>correlation</code> <em>Correlation Distance</em></li><li><code>chebyshev</code> <em>Chebyshev Distance</em></li><li><code>burrows</code> <em>Burrows' Delta</em> = manhattan-z_score</li><li><code>quadratic</code> <em>Quadratic Delta</em> = sqeuclidean-z_score</li><li><code>eder</code> <em>Eder's Delta</em> = manhattan-z_score-eder_std</li><li><code>eder_simple</code> <em>Eder's Simple</em> = manhattan-sqrt</li><li><code>cosine_delta</code> <em>Cosine Delta</em> = cosine-z_score</ol><h4>Normalizations</h4><ol><li>z_score (Z-Score)</li><li>eder_std</li><li>binarize</li><li>length_normalized</li><li>diversity_scaled</li><li>sqrt</li><li>clamp</li><li>ternarize"
      ],
      "text/plain": [
       "<delta.deltas._FunctionRegistry at 0x7f0ccecc53d0>"
      ]
     },
     "execution_count": 8,
     "metadata": {},
     "output_type": "execute_result"
    }
   ],
   "source": [
    "delta.functions"
   ]
  },
  {
   "cell_type": "markdown",
   "metadata": {},
   "source": [
    "Some of the functions (e.g., `euclidean`) are simply wrappers around the corresponding functions of scipy.spatial.distance. So, if you would like to provide the Minkowski norm with $p = \\frac{1}{2}$, you can simply create the function using the wrapper class:"
   ]
  },
  {
   "cell_type": "code",
   "execution_count": 9,
   "metadata": {},
   "outputs": [
    {
     "data": {
      "text/html": [
       "<code>l_half</code> <em>Minkowki Norm $L_½$</em>"
      ],
      "text/plain": [
       "<delta.deltas.MetricDeltaFunction at 0x7f0cb17628b0>"
      ]
     },
     "execution_count": 9,
     "metadata": {},
     "output_type": "execute_result"
    }
   ],
   "source": [
    "delta.MetricDeltaFunction('minkowski', name='l_half', title='Minkowki Norm $L_½$', p=1/2)"
   ]
  },
  {
   "cell_type": "markdown",
   "metadata": {},
   "source": [
    "While it is possible to implement a delta function from scratch (linear delta is such a case), most “interesting” functions are a _composite_ delta function, i.e. a combination of one or more _normalizations_ and a basis distance function. E.g., Burrows' classic delta works by first normalizing the distance matrix to z-scores and then applying manhatten distance:"
   ]
  },
  {
   "cell_type": "code",
   "execution_count": 10,
   "metadata": {},
   "outputs": [
    {
     "data": {
      "text/html": [
       "<code>burrows</code> <em>Burrows' Delta</em> = manhattan-z_score"
      ],
      "text/plain": [
       "<delta.deltas.CompositeDeltaFunction at 0x7f0cb9763370>"
      ]
     },
     "execution_count": 10,
     "metadata": {},
     "output_type": "execute_result"
    }
   ],
   "source": [
    "delta.functions.burrows"
   ]
  },
  {
   "cell_type": "markdown",
   "metadata": {},
   "source": [
    "We can also roll our own. E.g., the `ternarize` normalization reduces the z-scores to -1, 0, or 1:\n",
    "$$\n",
    "t(z_{i,j}) = \\begin{cases}\n",
    "  -1, & z_{i,j} < -0.43 \\\\\n",
    "  \\ 0, & -0.43 \\le z_{i, j} < 0.43 \\\\\n",
    "  +1, & 0.43 < z_{i, j}\n",
    "\\end{cases}\n",
    "$$\n",
    "`eder_std` weights each word's influence by rank: $e(w_i) = w_i \\frac{n-i}{n}$ for $n$ words, with $w_0$ being the most frequent. We can combine this to ternarized eder:"
   ]
  },
  {
   "cell_type": "code",
   "execution_count": 11,
   "metadata": {},
   "outputs": [
    {
     "data": {
      "text/html": [
       "<code>eder_ternarized</code> = manhattan-z_score-ternarize-eder_std"
      ],
      "text/plain": [
       "<delta.deltas.CompositeDeltaFunction at 0x7f0caf2584c0>"
      ]
     },
     "execution_count": 11,
     "metadata": {},
     "output_type": "execute_result"
    }
   ],
   "source": [
    "delta.CompositeDeltaFunction(name='eder_ternarized', descriptor='manhattan-z_score-ternarize-eder_std')"
   ]
  },
  {
   "cell_type": "markdown",
   "metadata": {},
   "source": [
    "Now we're able to run our analyzis on this:"
   ]
  },
  {
   "cell_type": "code",
   "execution_count": 12,
   "metadata": {},
   "outputs": [
    {
     "name": "stderr",
     "output_type": "stream",
     "text": [
      "/home/tv/git/pydelta/delta/graphics.py:89: MatplotlibDeprecationWarning: Passing the pad parameter of tight_layout() positionally is deprecated since Matplotlib 3.3; the parameter will become keyword-only two minor releases later.\n",
      "  plt.tight_layout(2)\n"
     ]
    },
    {
     "data": {
      "image/png": "[encoded data removed]",
      "text/plain": [
       "<Figure size 720x1080 with 1 Axes>"
      ]
     },
     "metadata": {},
     "output_type": "display_data"
    }
   ],
   "source": [
    "et_clust = delta.Clustering(delta.functions.eder_ternarized(c2500))\n",
    "plt.figure(figsize=(10,15))\n",
    "delta.Dendrogram(et_clust).show()"
   ]
  },
  {
   "cell_type": "markdown",
   "metadata": {},
   "source": [
    "You can also define your own normalizations. E.g., the original z-score normalization has been defined by these few lines:"
   ]
  },
  {
   "cell_type": "code",
   "execution_count": 13,
   "metadata": {},
   "outputs": [
    {
     "name": "stderr",
     "output_type": "stream",
     "text": [
      "Registering z_score (Z-Score) as z_score, replacing existing function with this name\n"
     ]
    }
   ],
   "source": [
    "@delta.normalization(title=\"Z-Score\")\n",
    "def z_score(corpus):\n",
    "    \"\"\"Normalizes the corpus to the z-scores.\"\"\"\n",
    "    return (corpus - corpus.mean()) / corpus.std()"
   ]
  },
  {
   "cell_type": "code",
   "execution_count": null,
   "metadata": {},
   "outputs": [],
   "source": []
  }
 ],
 "metadata": {
  "kernelspec": {
   "display_name": "pydelta",
   "language": "python",
   "name": "pydelta"
  },
  "language_info": {
   "codemirror_mode": {
    "name": "ipython",
    "version": 3
   },
   "file_extension": ".py",
   "mimetype": "text/x-python",
   "name": "python",
   "nbconvert_exporter": "python",
   "pygments_lexer": "ipython3",
   "version": "3.9.5"
  }
 },
 "nbformat": 4,
 "nbformat_minor": 2
}
