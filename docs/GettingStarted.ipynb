{
 "cells": [
  {
   "cell_type": "markdown",
   "metadata": {},
   "source": [
    "## Getting Started with pyDelta's _next_ branch\n",
    "\n",
    "pyDelta's _next_ branch contains our work-in-progress implementation of experiments using Delta variants as a python library. We assume you have installed the library using `pip`.\n",
    "\n",
    "First, let's import the delta package:"
   ]
  },
  {
   "cell_type": "code",
   "execution_count": 1,
   "metadata": {},
   "outputs": [],
   "source": [
    "import delta"
   ]
  },
  {
   "cell_type": "markdown",
   "metadata": {},
   "source": [
    "### Loading the corpus and preparing the feature matrix\n",
    "\n",
    "The [Corpus](delta.html#delta.corpus.Corpus) class represents the corpus as a bag-of-words feature matrix. In its simplest form, you can just call `Corpus` and pass it the directory your texts reside in:"
   ]
  },
  {
   "cell_type": "code",
   "execution_count": 2,
   "metadata": {},
   "outputs": [],
   "source": [
    "raw_corpus = delta.Corpus('../../refcor/English')"
   ]
  },
  {
   "cell_type": "markdown",
   "metadata": {},
   "source": [
    "This simple form assumes your texts in plain text files following the pattern `Author_Title.txt`. The reference corpora of English, French and German novels we use [can be found on Github](https://github.com/cophi-wue/refcor). If your corpus looks different, or if you need other ways of feature extraction than our simple tokenizer regular expression, have a look at the full documentation of our Corpus class for ways of parametrizing or further customizing feature extraction."
   ]
  },
  {
   "cell_type": "markdown",
   "metadata": {},
   "source": [
    "`Corpus` is simply a subclass of pandas' DataFrame. The rows represent the documents, the columns the individual types. Let's look at the Corpus' top left corner:"
   ]
  },
  {
   "cell_type": "code",
   "execution_count": 3,
   "metadata": {},
   "outputs": [
    {
     "name": "stdout",
     "output_type": "stream",
     "text": [
      "(75, 87829)\n"
     ]
    },
    {
     "data": {
      "text/html": [
       "<div>\n",
       "<style scoped>\n",
       "    .dataframe tbody tr th:only-of-type {\n",
       "        vertical-align: middle;\n",
       "    }\n",
       "\n",
       "    .dataframe tbody tr th {\n",
       "        vertical-align: top;\n",
       "    }\n",
       "\n",
       "    .dataframe thead th {\n",
       "        text-align: right;\n",
       "    }\n",
       "</style>\n",
       "<table border=\"1\" class=\"dataframe\">\n",
       "  <thead>\n",
       "    <tr style=\"text-align: right;\">\n",
       "      <th></th>\n",
       "      <th>the</th>\n",
       "      <th>and</th>\n",
       "      <th>to</th>\n",
       "      <th>of</th>\n",
       "      <th>a</th>\n",
       "      <th>I</th>\n",
       "      <th>in</th>\n",
       "      <th>was</th>\n",
       "      <th>that</th>\n",
       "      <th>he</th>\n",
       "    </tr>\n",
       "  </thead>\n",
       "  <tbody>\n",
       "    <tr>\n",
       "      <th>ward_ashe</th>\n",
       "      <td>6904.0</td>\n",
       "      <td>4523.0</td>\n",
       "      <td>3498.0</td>\n",
       "      <td>4071.0</td>\n",
       "      <td>3185.0</td>\n",
       "      <td>1859.0</td>\n",
       "      <td>2278.0</td>\n",
       "      <td>1928.0</td>\n",
       "      <td>1528.0</td>\n",
       "      <td>1466.0</td>\n",
       "    </tr>\n",
       "    <tr>\n",
       "      <th>blackmore_springhaven</th>\n",
       "      <td>9965.0</td>\n",
       "      <td>6555.0</td>\n",
       "      <td>5865.0</td>\n",
       "      <td>6539.0</td>\n",
       "      <td>4637.0</td>\n",
       "      <td>2896.0</td>\n",
       "      <td>2449.0</td>\n",
       "      <td>2156.0</td>\n",
       "      <td>2572.0</td>\n",
       "      <td>2244.0</td>\n",
       "    </tr>\n",
       "    <tr>\n",
       "      <th>stevenson_island</th>\n",
       "      <td>4075.0</td>\n",
       "      <td>2680.0</td>\n",
       "      <td>1508.0</td>\n",
       "      <td>1671.0</td>\n",
       "      <td>1720.0</td>\n",
       "      <td>1965.0</td>\n",
       "      <td>932.0</td>\n",
       "      <td>1130.0</td>\n",
       "      <td>857.0</td>\n",
       "      <td>808.0</td>\n",
       "    </tr>\n",
       "    <tr>\n",
       "      <th>thackeray_esmond</th>\n",
       "      <td>9742.0</td>\n",
       "      <td>7992.0</td>\n",
       "      <td>4907.0</td>\n",
       "      <td>5541.0</td>\n",
       "      <td>4158.0</td>\n",
       "      <td>1898.0</td>\n",
       "      <td>2981.0</td>\n",
       "      <td>2755.0</td>\n",
       "      <td>2432.0</td>\n",
       "      <td>2385.0</td>\n",
       "    </tr>\n",
       "    <tr>\n",
       "      <th>ward_milly</th>\n",
       "      <td>2098.0</td>\n",
       "      <td>2189.0</td>\n",
       "      <td>1262.0</td>\n",
       "      <td>716.0</td>\n",
       "      <td>1058.0</td>\n",
       "      <td>596.0</td>\n",
       "      <td>565.0</td>\n",
       "      <td>563.0</td>\n",
       "      <td>364.0</td>\n",
       "      <td>298.0</td>\n",
       "    </tr>\n",
       "  </tbody>\n",
       "</table>\n",
       "</div>"
      ],
      "text/plain": [
       "                          the     and      to      of       a       I      in  \\\n",
       "ward_ashe              6904.0  4523.0  3498.0  4071.0  3185.0  1859.0  2278.0   \n",
       "blackmore_springhaven  9965.0  6555.0  5865.0  6539.0  4637.0  2896.0  2449.0   \n",
       "stevenson_island       4075.0  2680.0  1508.0  1671.0  1720.0  1965.0   932.0   \n",
       "thackeray_esmond       9742.0  7992.0  4907.0  5541.0  4158.0  1898.0  2981.0   \n",
       "ward_milly             2098.0  2189.0  1262.0   716.0  1058.0   596.0   565.0   \n",
       "\n",
       "                          was    that      he  \n",
       "ward_ashe              1928.0  1528.0  1466.0  \n",
       "blackmore_springhaven  2156.0  2572.0  2244.0  \n",
       "stevenson_island       1130.0   857.0   808.0  \n",
       "thackeray_esmond       2755.0  2432.0  2385.0  \n",
       "ward_milly              563.0   364.0   298.0  "
      ]
     },
     "execution_count": 3,
     "metadata": {},
     "output_type": "execute_result"
    }
   ],
   "source": [
    "print(raw_corpus.shape)\n",
    "raw_corpus.iloc[0:5,0:10]"
   ]
  },
  {
   "cell_type": "markdown",
   "metadata": {},
   "source": [
    "The matrix contains the absolute frequencies of each word in each document, columns are sorted by the sum of all absolute frequencies."
   ]
  },
  {
   "cell_type": "markdown",
   "metadata": {},
   "source": [
    "Corpus has a few methods to manipulate the feature matrix, e.g., to perform culling: To remove all tokens that are not present in at least ⅓ of all documents, use"
   ]
  },
  {
   "cell_type": "code",
   "execution_count": 4,
   "metadata": {},
   "outputs": [
    {
     "name": "stdout",
     "output_type": "stream",
     "text": [
      "(75, 10039)\n"
     ]
    }
   ],
   "source": [
    "culled_corpus = raw_corpus.cull(1/3)\n",
    "print(culled_corpus.shape)"
   ]
  },
  {
   "cell_type": "markdown",
   "metadata": {},
   "source": [
    "Unless documented otherwise, these method return a new modified corpus instead of changing the current one.\n",
    "\n",
    "\n",
    "For most experiments, you'll want to work on [the relative frequencies](delta.html#corpus.Corpus.relative_frequencies) of [the $n$ most frequent words](delta.html#corpus.Corpus.topn). There is a  [combined method](delta.html#corpus.Corpus.get_mfw_table) for that:"
   ]
  },
  {
   "cell_type": "code",
   "execution_count": 5,
   "metadata": {},
   "outputs": [],
   "source": [
    "c2500 = raw_corpus.get_mfw_table(2500)"
   ]
  },
  {
   "cell_type": "markdown",
   "metadata": {},
   "source": [
    "### Using delta functions to create a distance matrix"
   ]
  },
  {
   "cell_type": "markdown",
   "metadata": {},
   "source": [
    "pydelta provides a number of delta functions by name that all produce a [distance matrix](delta.html#deltas.DistanceMatrix). To run, e.g., Cosine Delta on our corpus from above:"
   ]
  },
  {
   "cell_type": "code",
   "execution_count": 6,
   "metadata": {},
   "outputs": [
    {
     "data": {
      "text/html": [
       "<div>\n",
       "<style scoped>\n",
       "    .dataframe tbody tr th:only-of-type {\n",
       "        vertical-align: middle;\n",
       "    }\n",
       "\n",
       "    .dataframe tbody tr th {\n",
       "        vertical-align: top;\n",
       "    }\n",
       "\n",
       "    .dataframe thead th {\n",
       "        text-align: right;\n",
       "    }\n",
       "</style>\n",
       "<table border=\"1\" class=\"dataframe\">\n",
       "  <thead>\n",
       "    <tr style=\"text-align: right;\">\n",
       "      <th></th>\n",
       "      <th>ward_ashe</th>\n",
       "      <th>blackmore_springhaven</th>\n",
       "      <th>stevenson_island</th>\n",
       "      <th>thackeray_esmond</th>\n",
       "      <th>ward_milly</th>\n",
       "    </tr>\n",
       "  </thead>\n",
       "  <tbody>\n",
       "    <tr>\n",
       "      <th>ward_ashe</th>\n",
       "      <td>0.000000</td>\n",
       "      <td>1.172292</td>\n",
       "      <td>1.102327</td>\n",
       "      <td>1.036012</td>\n",
       "      <td>1.014371</td>\n",
       "    </tr>\n",
       "    <tr>\n",
       "      <th>blackmore_springhaven</th>\n",
       "      <td>1.172292</td>\n",
       "      <td>0.000000</td>\n",
       "      <td>0.901935</td>\n",
       "      <td>0.949230</td>\n",
       "      <td>0.999159</td>\n",
       "    </tr>\n",
       "    <tr>\n",
       "      <th>stevenson_island</th>\n",
       "      <td>1.102327</td>\n",
       "      <td>0.901935</td>\n",
       "      <td>0.000000</td>\n",
       "      <td>1.059726</td>\n",
       "      <td>0.874804</td>\n",
       "    </tr>\n",
       "    <tr>\n",
       "      <th>thackeray_esmond</th>\n",
       "      <td>1.036012</td>\n",
       "      <td>0.949230</td>\n",
       "      <td>1.059726</td>\n",
       "      <td>0.000000</td>\n",
       "      <td>1.082447</td>\n",
       "    </tr>\n",
       "    <tr>\n",
       "      <th>ward_milly</th>\n",
       "      <td>1.014371</td>\n",
       "      <td>0.999159</td>\n",
       "      <td>0.874804</td>\n",
       "      <td>1.082447</td>\n",
       "      <td>0.000000</td>\n",
       "    </tr>\n",
       "  </tbody>\n",
       "</table>\n",
       "</div>"
      ],
      "text/plain": [
       "                       ward_ashe  blackmore_springhaven  stevenson_island  \\\n",
       "ward_ashe               0.000000               1.172292          1.102327   \n",
       "blackmore_springhaven   1.172292               0.000000          0.901935   \n",
       "stevenson_island        1.102327               0.901935          0.000000   \n",
       "thackeray_esmond        1.036012               0.949230          1.059726   \n",
       "ward_milly              1.014371               0.999159          0.874804   \n",
       "\n",
       "                       thackeray_esmond  ward_milly  \n",
       "ward_ashe                      1.036012    1.014371  \n",
       "blackmore_springhaven          0.949230    0.999159  \n",
       "stevenson_island               1.059726    0.874804  \n",
       "thackeray_esmond               0.000000    1.082447  \n",
       "ward_milly                     1.082447    0.000000  "
      ]
     },
     "execution_count": 6,
     "metadata": {},
     "output_type": "execute_result"
    }
   ],
   "source": [
    "distances = delta.functions.cosine_delta(c2500)\n",
    "distances.iloc[:5,:5]"
   ]
  },
  {
   "cell_type": "markdown",
   "metadata": {},
   "source": [
    "It is possible to run a few evaluations already on the distance matrix:"
   ]
  },
  {
   "cell_type": "code",
   "execution_count": 7,
   "metadata": {},
   "outputs": [
    {
     "data": {
      "text/plain": [
       "F-Ratio         0.405758\n",
       "Fisher's LD     1.328287\n",
       "Simple Score    3.613850\n",
       "dtype: float64"
      ]
     },
     "execution_count": 7,
     "metadata": {},
     "output_type": "execute_result"
    }
   ],
   "source": [
    "distances.evaluate()"
   ]
  },
  {
   "cell_type": "markdown",
   "metadata": {},
   "source": [
    "F-Ratio and Fisher's Linear Discriminant are established measures (see Heeringa et al., 2008), to calculate the _Simple Score_ we first standardize the distances and then calculate the difference between the mean distances between out-group and in-group texts (i.e., texts by different authors and texts by the same author)."
   ]
  },
  {
   "cell_type": "markdown",
   "metadata": {},
   "source": [
    "You can also get the distances as a flat table. This will effectively return a flattened version of the lower right triangle of the distance matrix above, as `scipy.spatial.distance.squareform(distances)` would do, but with a proper index:"
   ]
  },
  {
   "cell_type": "code",
   "execution_count": 8,
   "metadata": {},
   "outputs": [
    {
     "data": {
      "text/plain": [
       "ward_ashe          blackmore_springhaven    1.172292\n",
       "                   stevenson_island         1.102327\n",
       "                   thackeray_esmond         1.036012\n",
       "                   ward_milly               1.014371\n",
       "                   burnett_lord             0.953704\n",
       "                                              ...   \n",
       "james_muse         lytton_novel             0.989467\n",
       "                   doyle_lost               1.054597\n",
       "james_ambassadors  lytton_novel             1.017272\n",
       "                   doyle_lost               0.982058\n",
       "lytton_novel       doyle_lost               1.064256\n",
       "Name: cosine_delta, Length: 2775, dtype: float64"
      ]
     },
     "execution_count": 8,
     "metadata": {},
     "output_type": "execute_result"
    }
   ],
   "source": [
    "distances.delta_values()"
   ]
  },
  {
   "cell_type": "markdown",
   "metadata": {},
   "source": [
    "### Clustering results\n",
    "\n",
    "It is common to use _clustering_ on the basis of the distance matrix in order to group similar texts. pydeltas [Clustering](delta.rst#cluster.Clustering) class is a convenience wrapper around hierarchical clustering methods, of which _Ward clustering_ is the default:"
   ]
  },
  {
   "cell_type": "code",
   "execution_count": 9,
   "metadata": {
    "scrolled": true
   },
   "outputs": [],
   "source": [
    "clustering = delta.Clustering(distances)"
   ]
  },
  {
   "cell_type": "markdown",
   "metadata": {},
   "source": [
    "A hierarchical clustering is typically visualized using a _Dendrogram_. We've [included an implementation](delta.html#graph.Dendrogram) that colors by author and provides labels using the [DocumentDescriber](delta.html#corpus.DocumentDescriber) that is assigned when creating the corpus:"
   ]
  },
  {
   "cell_type": "code",
   "execution_count": 10,
   "metadata": {},
   "outputs": [
    {
     "name": "stderr",
     "output_type": "stream",
     "text": [
      "/home/tv/git/pydelta/delta/graphics.py:88: MatplotlibDeprecationWarning: Passing the pad parameter of tight_layout() positionally is deprecated since Matplotlib 3.3; the parameter will become keyword-only two minor releases later.\n",
      "  plt.tight_layout(2)\n"
     ]
    },
    {
     "data": {
      "image/png": "[encoded data removed]",
      "text/plain": [
       "<Figure size 720x1080 with 1 Axes>"
      ]
     },
     "metadata": {},
     "output_type": "display_data"
    }
   ],
   "source": [
    "import matplotlib.pyplot as plt\n",
    "plt.figure(figsize=(10,15))\n",
    "delta.Dendrogram(clustering).show()"
   ]
  },
  {
   "cell_type": "markdown",
   "metadata": {
    "collapsed": true
   },
   "source": [
    "For any but a visual inspection, it is probably best to cut through the hierarchical clustering to provide flat clusters. This can be done with default settings from the hierarchical clustering:"
   ]
  },
  {
   "cell_type": "code",
   "execution_count": 11,
   "metadata": {},
   "outputs": [
    {
     "name": "stdout",
     "output_type": "stream",
     "text": [
      "25 clusters of 75 documents (ground truth: 25 groups):\n",
      "{1: ['blackmore: springhaven', 'blackmore: erema', 'blackmore: lorna'],\n",
      " 2: ['morris: water', 'morris: roots', 'morris: wood'],\n",
      " 3: ['stevenson: island', 'stevenson: arrow', 'doyle: micah',\n",
      "     'stevenson: catriona'],\n",
      " 4: ['haggard: mist', 'haggard: sheallan', 'haggard: mines'],\n",
      " 5: ['doyle: hound', 'doyle: lost'],\n",
      " 6: ['chesterton: napoleon', 'chesterton: thursday', 'chesterton: innocence'],\n",
      " 7: ['kipling: kim', 'kipling: light', 'kipling: captains'],\n",
      " 8: ['cbronte: shirley', 'cbronte: villette', 'cbronte: jane'],\n",
      " 9: ['barclay: ladies', 'barclay: rosary', 'barclay: postern'],\n",
      " 10: ['corelli: innocent', 'corelli: romance', 'corelli: satan'],\n",
      " 11: ['ward: milly', 'burnett: lord', 'burnett: garden', 'burnett: princess'],\n",
      " 12: ['gaskell: lovers', 'gaskell: ruth', 'gaskell: wives'],\n",
      " 13: ['eliot: adam', 'eliot: daniel', 'eliot: felix'],\n",
      " 14: ['dickens: bleak', 'dickens: oliver', 'dickens: expectations'],\n",
      " 15: ['ward: ashe', 'ward: harvest'],\n",
      " 16: ['hardy: tess', 'hardy: jude', 'hardy: madding'],\n",
      " 17: ['lytton: what', 'lytton: kenelm', 'lytton: novel'],\n",
      " 18: ['meredith: marriage', 'meredith: feverel', 'meredith: richmond'],\n",
      " 19: ['thackeray: esmond', 'thackeray: pendennis', 'thackeray: virginians'],\n",
      " 20: ['braddon: fortune', 'braddon: quest', 'braddon: audley'],\n",
      " 21: ['gissing: warburton', 'gissing: unclassed', 'gissing: women'],\n",
      " 22: ['collins: basil', 'collins: woman', 'collins: legacy'],\n",
      " 23: ['forster: angels', 'forster: howards', 'forster: room'],\n",
      " 24: ['trollope: angel', 'trollope: warden', 'trollope: phineas'],\n",
      " 25: ['james: hudson', 'james: muse', 'james: ambassadors']}\n",
      "\n"
     ]
    }
   ],
   "source": [
    "clusters = clustering.fclustering()\n",
    "print(clusters.describe())"
   ]
  },
  {
   "cell_type": "markdown",
   "metadata": {},
   "source": [
    "There are also some measures of cluster quality built into [our class](delta.rst#cluster.FlatClustering):"
   ]
  },
  {
   "cell_type": "code",
   "execution_count": 12,
   "metadata": {},
   "outputs": [
    {
     "data": {
      "text/plain": [
       "Cluster Errors         2.000000\n",
       "Adjusted Rand Index    0.932358\n",
       "Homogeneity            0.981365\n",
       "Completeness           0.984136\n",
       "V Measure              0.982749\n",
       "Purity                 0.973333\n",
       "Entropy                0.018635\n",
       "dtype: float64"
      ]
     },
     "execution_count": 12,
     "metadata": {},
     "output_type": "execute_result"
    }
   ],
   "source": [
    "clusters.evaluate()"
   ]
  }
 ],
 "metadata": {
  "kernelspec": {
   "display_name": "pydelta",
   "language": "python",
   "name": "pydelta"
  },
  "language_info": {
   "codemirror_mode": {
    "name": "ipython",
    "version": 3
   },
   "file_extension": ".py",
   "mimetype": "text/x-python",
   "name": "python",
   "nbconvert_exporter": "python",
   "pygments_lexer": "ipython3",
   "version": "3.9.5"
  }
 },
 "nbformat": 4,
 "nbformat_minor": 2
}
